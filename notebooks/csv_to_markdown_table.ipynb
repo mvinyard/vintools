{
 "cells": [
  {
   "cell_type": "markdown",
   "id": "b50d1283",
   "metadata": {},
   "source": [
    "## CSV to markdown table conversion demo"
   ]
  },
  {
   "cell_type": "markdown",
   "id": "08bd86ba",
   "metadata": {},
   "source": [
    "#### Setup and define paths"
   ]
  },
  {
   "cell_type": "code",
   "execution_count": 1,
   "id": "8c689edd",
   "metadata": {},
   "outputs": [
    {
     "data": {
      "application/javascript": [
       "\n",
       "            setTimeout(function() {\n",
       "                var nbb_cell_id = 1;\n",
       "                var nbb_unformatted_code = \"%load_ext nb_black\\n\\nimport vintools as v\";\n",
       "                var nbb_formatted_code = \"%load_ext nb_black\\n\\nimport vintools as v\";\n",
       "                var nbb_cells = Jupyter.notebook.get_cells();\n",
       "                for (var i = 0; i < nbb_cells.length; ++i) {\n",
       "                    if (nbb_cells[i].input_prompt_number == nbb_cell_id) {\n",
       "                        if (nbb_cells[i].get_text() == nbb_unformatted_code) {\n",
       "                             nbb_cells[i].set_text(nbb_formatted_code);\n",
       "                        }\n",
       "                        break;\n",
       "                    }\n",
       "                }\n",
       "            }, 500);\n",
       "            "
      ],
      "text/plain": [
       "<IPython.core.display.Javascript object>"
      ]
     },
     "metadata": {},
     "output_type": "display_data"
    }
   ],
   "source": [
    "%load_ext nb_black\n",
    "\n",
    "import vintools as v"
   ]
  },
  {
   "cell_type": "markdown",
   "id": "6b28282e",
   "metadata": {},
   "source": [
    "#### Define filepaths"
   ]
  },
  {
   "cell_type": "code",
   "execution_count": 2,
   "id": "b9eb26fd",
   "metadata": {},
   "outputs": [
    {
     "data": {
      "application/javascript": [
       "\n",
       "            setTimeout(function() {\n",
       "                var nbb_cell_id = 2;\n",
       "                var nbb_unformatted_code = \"infile = \\\"./samples.csv\\\"\\noutfile = \\\"./table.md\\\"\\noutfile_quick = \\\"./table_quick.md\\\"\";\n",
       "                var nbb_formatted_code = \"infile = \\\"./samples.csv\\\"\\noutfile = \\\"./table.md\\\"\\noutfile_quick = \\\"./table_quick.md\\\"\";\n",
       "                var nbb_cells = Jupyter.notebook.get_cells();\n",
       "                for (var i = 0; i < nbb_cells.length; ++i) {\n",
       "                    if (nbb_cells[i].input_prompt_number == nbb_cell_id) {\n",
       "                        if (nbb_cells[i].get_text() == nbb_unformatted_code) {\n",
       "                             nbb_cells[i].set_text(nbb_formatted_code);\n",
       "                        }\n",
       "                        break;\n",
       "                    }\n",
       "                }\n",
       "            }, 500);\n",
       "            "
      ],
      "text/plain": [
       "<IPython.core.display.Javascript object>"
      ]
     },
     "metadata": {},
     "output_type": "display_data"
    }
   ],
   "source": [
    "infile = \"./data.csv\"\n",
    "outfile = \"./table.md\"\n",
    "outfile_quick = \"./table_quick.md\""
   ]
  },
  {
   "cell_type": "markdown",
   "id": "34e29a22",
   "metadata": {},
   "source": [
    "#### Conversion demo"
   ]
  },
  {
   "cell_type": "code",
   "execution_count": 3,
   "id": "cb4e75fd",
   "metadata": {},
   "outputs": [
    {
     "data": {
      "application/javascript": [
       "\n",
       "            setTimeout(function() {\n",
       "                var nbb_cell_id = 3;\n",
       "                var nbb_unformatted_code = \"MarkdownTable = v.tl.create_md_table()\";\n",
       "                var nbb_formatted_code = \"MarkdownTable = v.tl.create_md_table()\";\n",
       "                var nbb_cells = Jupyter.notebook.get_cells();\n",
       "                for (var i = 0; i < nbb_cells.length; ++i) {\n",
       "                    if (nbb_cells[i].input_prompt_number == nbb_cell_id) {\n",
       "                        if (nbb_cells[i].get_text() == nbb_unformatted_code) {\n",
       "                             nbb_cells[i].set_text(nbb_formatted_code);\n",
       "                        }\n",
       "                        break;\n",
       "                    }\n",
       "                }\n",
       "            }, 500);\n",
       "            "
      ],
      "text/plain": [
       "<IPython.core.display.Javascript object>"
      ]
     },
     "metadata": {},
     "output_type": "display_data"
    }
   ],
   "source": [
    "MarkdownTable = v.tl.create_md_table()"
   ]
  },
  {
   "cell_type": "code",
   "execution_count": 4,
   "id": "5ea0c10d",
   "metadata": {},
   "outputs": [
    {
     "data": {
      "text/html": [
       "<div>\n",
       "<style scoped>\n",
       "    .dataframe tbody tr th:only-of-type {\n",
       "        vertical-align: middle;\n",
       "    }\n",
       "\n",
       "    .dataframe tbody tr th {\n",
       "        vertical-align: top;\n",
       "    }\n",
       "\n",
       "    .dataframe thead th {\n",
       "        text-align: right;\n",
       "    }\n",
       "</style>\n",
       "<table border=\"1\" class=\"dataframe\">\n",
       "  <thead>\n",
       "    <tr style=\"text-align: right;\">\n",
       "      <th></th>\n",
       "      <th>sample</th>\n",
       "      <th>index</th>\n",
       "      <th>sample number</th>\n",
       "      <th>aliquot</th>\n",
       "      <th>diagnosis</th>\n",
       "      <th># cells targeted</th>\n",
       "      <th>tissue</th>\n",
       "      <th>tissue fraction</th>\n",
       "      <th>storage</th>\n",
       "      <th>preparation</th>\n",
       "    </tr>\n",
       "  </thead>\n",
       "  <tbody>\n",
       "    <tr>\n",
       "      <th>0</th>\n",
       "      <td>DL2599</td>\n",
       "      <td>SI-NA-F2</td>\n",
       "      <td>7</td>\n",
       "      <td>1</td>\n",
       "      <td>HRMGUS</td>\n",
       "      <td>9,235</td>\n",
       "      <td>BM</td>\n",
       "      <td>CD138+</td>\n",
       "      <td>Frozen</td>\n",
       "      <td>RBCLB</td>\n",
       "    </tr>\n",
       "    <tr>\n",
       "      <th>1</th>\n",
       "      <td>DL2599</td>\n",
       "      <td>SI-NA-G2</td>\n",
       "      <td>7</td>\n",
       "      <td>2</td>\n",
       "      <td>HRMGUS</td>\n",
       "      <td>9,235</td>\n",
       "      <td>BM</td>\n",
       "      <td>CD138+</td>\n",
       "      <td>Frozen</td>\n",
       "      <td>RBCLB</td>\n",
       "    </tr>\n",
       "    <tr>\n",
       "      <th>2</th>\n",
       "      <td>pM5321</td>\n",
       "      <td>SI-NA-H2</td>\n",
       "      <td>8</td>\n",
       "      <td>1</td>\n",
       "      <td>LRMSMM</td>\n",
       "      <td>10,000</td>\n",
       "      <td>BM</td>\n",
       "      <td>CD138+</td>\n",
       "      <td>Frozen</td>\n",
       "      <td>RBCLB</td>\n",
       "    </tr>\n",
       "    <tr>\n",
       "      <th>3</th>\n",
       "      <td>pM5321</td>\n",
       "      <td>SI-NA-A3</td>\n",
       "      <td>8</td>\n",
       "      <td>2</td>\n",
       "      <td>LRMSMM</td>\n",
       "      <td>10,000</td>\n",
       "      <td>BM</td>\n",
       "      <td>CD138+</td>\n",
       "      <td>Frozen</td>\n",
       "      <td>RBCLB</td>\n",
       "    </tr>\n",
       "    <tr>\n",
       "      <th>4</th>\n",
       "      <td>DL2140</td>\n",
       "      <td>SI-NA-A2</td>\n",
       "      <td>1</td>\n",
       "      <td>1</td>\n",
       "      <td>LRMGUS</td>\n",
       "      <td>6,000</td>\n",
       "      <td>BM</td>\n",
       "      <td>CD138+</td>\n",
       "      <td>Frozen</td>\n",
       "      <td>RBCLB</td>\n",
       "    </tr>\n",
       "  </tbody>\n",
       "</table>\n",
       "</div>"
      ],
      "text/plain": [
       "   sample     index  sample number  aliquot diagnosis # cells targeted tissue  \\\n",
       "0  DL2599  SI-NA-F2              7        1    HRMGUS            9,235     BM   \n",
       "1  DL2599  SI-NA-G2              7        2    HRMGUS            9,235     BM   \n",
       "2  pM5321  SI-NA-H2              8        1    LRMSMM           10,000     BM   \n",
       "3  pM5321  SI-NA-A3              8        2    LRMSMM           10,000     BM   \n",
       "4  DL2140  SI-NA-A2              1        1    LRMGUS            6,000     BM   \n",
       "\n",
       "  tissue fraction storage preparation  \n",
       "0          CD138+  Frozen       RBCLB  \n",
       "1          CD138+  Frozen       RBCLB  \n",
       "2          CD138+  Frozen       RBCLB  \n",
       "3          CD138+  Frozen       RBCLB  \n",
       "4          CD138+  Frozen       RBCLB  "
      ]
     },
     "execution_count": 4,
     "metadata": {},
     "output_type": "execute_result"
    },
    {
     "data": {
      "application/javascript": [
       "\n",
       "            setTimeout(function() {\n",
       "                var nbb_cell_id = 4;\n",
       "                var nbb_unformatted_code = \"MarkdownTable.read_df(infile)\\nMarkdownTable.df.head()\";\n",
       "                var nbb_formatted_code = \"MarkdownTable.read_df(infile)\\nMarkdownTable.df.head()\";\n",
       "                var nbb_cells = Jupyter.notebook.get_cells();\n",
       "                for (var i = 0; i < nbb_cells.length; ++i) {\n",
       "                    if (nbb_cells[i].input_prompt_number == nbb_cell_id) {\n",
       "                        if (nbb_cells[i].get_text() == nbb_unformatted_code) {\n",
       "                             nbb_cells[i].set_text(nbb_formatted_code);\n",
       "                        }\n",
       "                        break;\n",
       "                    }\n",
       "                }\n",
       "            }, 500);\n",
       "            "
      ],
      "text/plain": [
       "<IPython.core.display.Javascript object>"
      ]
     },
     "metadata": {},
     "output_type": "display_data"
    }
   ],
   "source": [
    "MarkdownTable.read_df(infile)\n",
    "MarkdownTable.df.head()"
   ]
  },
  {
   "cell_type": "code",
   "execution_count": 5,
   "id": "12c4db69",
   "metadata": {},
   "outputs": [
    {
     "name": "stdout",
     "output_type": "stream",
     "text": [
      "|sample|index|sample number|aliquot|diagnosis|# cells targeted|tissue|tissue fraction|storage|preparation|\n",
      "|--|--|--|--|--|--|--|--|--|--|\n",
      "|DL2599|SI-NA-F2|7|1|HRMGUS|9,235|BM|CD138+|Frozen|RBCLB|\n",
      "|DL2599|SI-NA-G2|7|2|HRMGUS|9,235|BM|CD138+|Frozen|RBCLB|\n",
      "|pM5321|SI-NA-H2|8|1|LRMSMM|10,000|BM|CD138+|Frozen|RBCLB|\n",
      "|pM5321|SI-NA-A3|8|2|LRMSMM|10,000|BM|CD138+|Frozen|RBCLB|\n",
      "|DL2140|SI-NA-A2|1|1|LRMGUS|6,000|BM|CD138+|Frozen|RBCLB|\n",
      "|DL2099|SI-NA-D2|5|1|LRSMM|10,000|BM|CD138+|Frozen|RBCLB|\n",
      "|IL0235|SI-NA-B2|3|1|HRSMM|all cells|BM|CD138+|Frozen|RBCLB|\n",
      "|pM10109|SI-NA-C3|10|1|IgK, SMM|10,000|BM|CD138+|Fresh|Ficoll|\n",
      "|pM10102|SI-NA-B3|9|1|MGUS|all cells|BM|CD138+|Fresh|Ficoll|\n",
      "|pM9161|SI-NA-E2|6|1|SMM|all cells|BM|CD138+|Frozen|Ficoll|\n",
      "|IL0251|SI-NA-C2|4|1|HRSMM|10,000|BM|CD138+|Frozen|RBCLB|\n",
      "|pM10114|SI-NA-D3|11|1|IgG Lambda, SMM|10,000|BM|CD138+|Fresh|Ficoll|\n"
     ]
    },
    {
     "data": {
      "application/javascript": [
       "\n",
       "            setTimeout(function() {\n",
       "                var nbb_cell_id = 5;\n",
       "                var nbb_unformatted_code = \"MarkdownTable.make_table()\\nMarkdownTable.view()\";\n",
       "                var nbb_formatted_code = \"MarkdownTable.make_table()\\nMarkdownTable.view()\";\n",
       "                var nbb_cells = Jupyter.notebook.get_cells();\n",
       "                for (var i = 0; i < nbb_cells.length; ++i) {\n",
       "                    if (nbb_cells[i].input_prompt_number == nbb_cell_id) {\n",
       "                        if (nbb_cells[i].get_text() == nbb_unformatted_code) {\n",
       "                             nbb_cells[i].set_text(nbb_formatted_code);\n",
       "                        }\n",
       "                        break;\n",
       "                    }\n",
       "                }\n",
       "            }, 500);\n",
       "            "
      ],
      "text/plain": [
       "<IPython.core.display.Javascript object>"
      ]
     },
     "metadata": {},
     "output_type": "display_data"
    }
   ],
   "source": [
    "MarkdownTable.make_table()\n",
    "MarkdownTable.view()"
   ]
  },
  {
   "cell_type": "code",
   "execution_count": 6,
   "id": "b3ac48cf",
   "metadata": {},
   "outputs": [
    {
     "name": "stdout",
     "output_type": "stream",
     "text": [
      "\u001b[1m\u001b[91m./samples.csv\u001b[0m converted to markdown table and saved: \u001b[1m\u001b[94m./table.md\u001b[0m\n"
     ]
    },
    {
     "data": {
      "application/javascript": [
       "\n",
       "            setTimeout(function() {\n",
       "                var nbb_cell_id = 6;\n",
       "                var nbb_unformatted_code = \"MarkdownTable.write(outfile)\";\n",
       "                var nbb_formatted_code = \"MarkdownTable.write(outfile)\";\n",
       "                var nbb_cells = Jupyter.notebook.get_cells();\n",
       "                for (var i = 0; i < nbb_cells.length; ++i) {\n",
       "                    if (nbb_cells[i].input_prompt_number == nbb_cell_id) {\n",
       "                        if (nbb_cells[i].get_text() == nbb_unformatted_code) {\n",
       "                             nbb_cells[i].set_text(nbb_formatted_code);\n",
       "                        }\n",
       "                        break;\n",
       "                    }\n",
       "                }\n",
       "            }, 500);\n",
       "            "
      ],
      "text/plain": [
       "<IPython.core.display.Javascript object>"
      ]
     },
     "metadata": {},
     "output_type": "display_data"
    }
   ],
   "source": [
    "MarkdownTable.write(outfile)"
   ]
  },
  {
   "cell_type": "markdown",
   "id": "ec5c4d51",
   "metadata": {},
   "source": [
    "#### There's also a quick function that can be used to format the table in one shot"
   ]
  },
  {
   "cell_type": "code",
   "execution_count": 7,
   "id": "9ae20c32",
   "metadata": {},
   "outputs": [
    {
     "name": "stdout",
     "output_type": "stream",
     "text": [
      "\u001b[1m\u001b[91m./samples.csv\u001b[0m converted to markdown table and saved: \u001b[1m\u001b[94mtable_quick.md\u001b[0m\n"
     ]
    },
    {
     "data": {
      "application/javascript": [
       "\n",
       "            setTimeout(function() {\n",
       "                var nbb_cell_id = 7;\n",
       "                var nbb_unformatted_code = \"v.tl.quicktable(infile, outfile=\\\"table_quick.md\\\")\";\n",
       "                var nbb_formatted_code = \"v.tl.quicktable(infile, outfile=\\\"table_quick.md\\\")\";\n",
       "                var nbb_cells = Jupyter.notebook.get_cells();\n",
       "                for (var i = 0; i < nbb_cells.length; ++i) {\n",
       "                    if (nbb_cells[i].input_prompt_number == nbb_cell_id) {\n",
       "                        if (nbb_cells[i].get_text() == nbb_unformatted_code) {\n",
       "                             nbb_cells[i].set_text(nbb_formatted_code);\n",
       "                        }\n",
       "                        break;\n",
       "                    }\n",
       "                }\n",
       "            }, 500);\n",
       "            "
      ],
      "text/plain": [
       "<IPython.core.display.Javascript object>"
      ]
     },
     "metadata": {},
     "output_type": "display_data"
    }
   ],
   "source": [
    "v.tl.quicktable(infile, outfile=\"table_quick.md\")"
   ]
  }
 ],
 "metadata": {
  "kernelspec": {
   "display_name": "Python 3 (ipykernel)",
   "language": "python",
   "name": "python3"
  },
  "language_info": {
   "codemirror_mode": {
    "name": "ipython",
    "version": 3
   },
   "file_extension": ".py",
   "mimetype": "text/x-python",
   "name": "python",
   "nbconvert_exporter": "python",
   "pygments_lexer": "ipython3",
   "version": "3.8.10"
  }
 },
 "nbformat": 4,
 "nbformat_minor": 5
}
