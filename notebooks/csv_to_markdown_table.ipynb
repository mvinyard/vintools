{
 "cells": [
  {
   "cell_type": "markdown",
   "id": "b50d1283",
   "metadata": {},
   "source": [
    "## CSV to markdown table conversion demo"
   ]
  },
  {
   "cell_type": "markdown",
   "id": "08bd86ba",
   "metadata": {},
   "source": [
    "#### Setup and define paths"
   ]
  },
  {
   "cell_type": "code",
   "execution_count": 1,
   "id": "8c689edd",
   "metadata": {},
   "outputs": [
    {
     "data": {
      "application/javascript": [
       "\n",
       "            setTimeout(function() {\n",
       "                var nbb_cell_id = 1;\n",
       "                var nbb_unformatted_code = \"%load_ext nb_black\\n\\nimport vintools as v\";\n",
       "                var nbb_formatted_code = \"%load_ext nb_black\\n\\nimport vintools as v\";\n",
       "                var nbb_cells = Jupyter.notebook.get_cells();\n",
       "                for (var i = 0; i < nbb_cells.length; ++i) {\n",
       "                    if (nbb_cells[i].input_prompt_number == nbb_cell_id) {\n",
       "                        if (nbb_cells[i].get_text() == nbb_unformatted_code) {\n",
       "                             nbb_cells[i].set_text(nbb_formatted_code);\n",
       "                        }\n",
       "                        break;\n",
       "                    }\n",
       "                }\n",
       "            }, 500);\n",
       "            "
      ],
      "text/plain": [
       "<IPython.core.display.Javascript object>"
      ]
     },
     "metadata": {},
     "output_type": "display_data"
    }
   ],
   "source": [
    "%load_ext nb_black\n",
    "\n",
    "import vintools as v"
   ]
  },
  {
   "cell_type": "markdown",
   "id": "6b28282e",
   "metadata": {},
   "source": [
    "#### Define filepaths"
   ]
  },
  {
   "cell_type": "code",
   "execution_count": 2,
   "id": "b9eb26fd",
   "metadata": {},
   "outputs": [
    {
     "data": {
      "application/javascript": [
       "\n",
       "            setTimeout(function() {\n",
       "                var nbb_cell_id = 2;\n",
       "                var nbb_unformatted_code = \"infile = \\\"./data.csv\\\"\\noutfile = \\\"./table.md\\\"\\noutfile_quick = \\\"./table_quick.md\\\"\";\n",
       "                var nbb_formatted_code = \"infile = \\\"./data.csv\\\"\\noutfile = \\\"./table.md\\\"\\noutfile_quick = \\\"./table_quick.md\\\"\";\n",
       "                var nbb_cells = Jupyter.notebook.get_cells();\n",
       "                for (var i = 0; i < nbb_cells.length; ++i) {\n",
       "                    if (nbb_cells[i].input_prompt_number == nbb_cell_id) {\n",
       "                        if (nbb_cells[i].get_text() == nbb_unformatted_code) {\n",
       "                             nbb_cells[i].set_text(nbb_formatted_code);\n",
       "                        }\n",
       "                        break;\n",
       "                    }\n",
       "                }\n",
       "            }, 500);\n",
       "            "
      ],
      "text/plain": [
       "<IPython.core.display.Javascript object>"
      ]
     },
     "metadata": {},
     "output_type": "display_data"
    }
   ],
   "source": [
    "infile = \"./data.csv\"\n",
    "outfile = \"./table.md\"\n",
    "outfile_quick = \"./table_quick.md\""
   ]
  },
  {
   "cell_type": "markdown",
   "id": "34e29a22",
   "metadata": {},
   "source": [
    "#### Conversion demo"
   ]
  },
  {
   "cell_type": "code",
   "execution_count": 3,
   "id": "cb4e75fd",
   "metadata": {},
   "outputs": [
    {
     "data": {
      "application/javascript": [
       "\n",
       "            setTimeout(function() {\n",
       "                var nbb_cell_id = 3;\n",
       "                var nbb_unformatted_code = \"MarkdownTable = v.tl.create_md_table()\";\n",
       "                var nbb_formatted_code = \"MarkdownTable = v.tl.create_md_table()\";\n",
       "                var nbb_cells = Jupyter.notebook.get_cells();\n",
       "                for (var i = 0; i < nbb_cells.length; ++i) {\n",
       "                    if (nbb_cells[i].input_prompt_number == nbb_cell_id) {\n",
       "                        if (nbb_cells[i].get_text() == nbb_unformatted_code) {\n",
       "                             nbb_cells[i].set_text(nbb_formatted_code);\n",
       "                        }\n",
       "                        break;\n",
       "                    }\n",
       "                }\n",
       "            }, 500);\n",
       "            "
      ],
      "text/plain": [
       "<IPython.core.display.Javascript object>"
      ]
     },
     "metadata": {},
     "output_type": "display_data"
    }
   ],
   "source": [
    "MarkdownTable = v.tl.create_md_table()"
   ]
  },
  {
   "cell_type": "code",
   "execution_count": 4,
   "id": "5ea0c10d",
   "metadata": {},
   "outputs": [
    {
     "data": {
      "text/html": [
       "<div>\n",
       "<style scoped>\n",
       "    .dataframe tbody tr th:only-of-type {\n",
       "        vertical-align: middle;\n",
       "    }\n",
       "\n",
       "    .dataframe tbody tr th {\n",
       "        vertical-align: top;\n",
       "    }\n",
       "\n",
       "    .dataframe thead th {\n",
       "        text-align: right;\n",
       "    }\n",
       "</style>\n",
       "<table border=\"1\" class=\"dataframe\">\n",
       "  <thead>\n",
       "    <tr style=\"text-align: right;\">\n",
       "      <th></th>\n",
       "      <th>sample</th>\n",
       "      <th>index</th>\n",
       "      <th>metadata</th>\n",
       "    </tr>\n",
       "  </thead>\n",
       "  <tbody>\n",
       "    <tr>\n",
       "      <th>0</th>\n",
       "      <td>sample_hcz_105</td>\n",
       "      <td>SI-NA-D1</td>\n",
       "      <td>control</td>\n",
       "    </tr>\n",
       "    <tr>\n",
       "      <th>1</th>\n",
       "      <td>sample_hcz_106</td>\n",
       "      <td>SI-NA-A2</td>\n",
       "      <td>control</td>\n",
       "    </tr>\n",
       "    <tr>\n",
       "      <th>2</th>\n",
       "      <td>sample_hcz_107</td>\n",
       "      <td>SI-NA-D2</td>\n",
       "      <td>control</td>\n",
       "    </tr>\n",
       "    <tr>\n",
       "      <th>3</th>\n",
       "      <td>sample_hcz_108</td>\n",
       "      <td>SI-NA-B2</td>\n",
       "      <td>control</td>\n",
       "    </tr>\n",
       "    <tr>\n",
       "      <th>4</th>\n",
       "      <td>sample_hcz_109</td>\n",
       "      <td>SI-NA-C3</td>\n",
       "      <td>exp</td>\n",
       "    </tr>\n",
       "  </tbody>\n",
       "</table>\n",
       "</div>"
      ],
      "text/plain": [
       "           sample     index metadata\n",
       "0  sample_hcz_105  SI-NA-D1  control\n",
       "1  sample_hcz_106  SI-NA-A2  control\n",
       "2  sample_hcz_107  SI-NA-D2  control\n",
       "3  sample_hcz_108  SI-NA-B2  control\n",
       "4  sample_hcz_109  SI-NA-C3      exp"
      ]
     },
     "execution_count": 4,
     "metadata": {},
     "output_type": "execute_result"
    },
    {
     "data": {
      "application/javascript": [
       "\n",
       "            setTimeout(function() {\n",
       "                var nbb_cell_id = 4;\n",
       "                var nbb_unformatted_code = \"MarkdownTable.read_df(infile)\\nMarkdownTable.df.head()\";\n",
       "                var nbb_formatted_code = \"MarkdownTable.read_df(infile)\\nMarkdownTable.df.head()\";\n",
       "                var nbb_cells = Jupyter.notebook.get_cells();\n",
       "                for (var i = 0; i < nbb_cells.length; ++i) {\n",
       "                    if (nbb_cells[i].input_prompt_number == nbb_cell_id) {\n",
       "                        if (nbb_cells[i].get_text() == nbb_unformatted_code) {\n",
       "                             nbb_cells[i].set_text(nbb_formatted_code);\n",
       "                        }\n",
       "                        break;\n",
       "                    }\n",
       "                }\n",
       "            }, 500);\n",
       "            "
      ],
      "text/plain": [
       "<IPython.core.display.Javascript object>"
      ]
     },
     "metadata": {},
     "output_type": "display_data"
    }
   ],
   "source": [
    "MarkdownTable.read_df(infile)\n",
    "MarkdownTable.df.head()"
   ]
  },
  {
   "cell_type": "code",
   "execution_count": 5,
   "id": "12c4db69",
   "metadata": {},
   "outputs": [
    {
     "name": "stdout",
     "output_type": "stream",
     "text": [
      "|sample|index|metadata|\n",
      "|--|--|--|\n",
      "|sample_hcz_105|SI-NA-D1|control|\n",
      "|sample_hcz_106|SI-NA-A2|control|\n",
      "|sample_hcz_107|SI-NA-D2|control|\n",
      "|sample_hcz_108|SI-NA-B2|control|\n",
      "|sample_hcz_109|SI-NA-C3|exp|\n",
      "|sample_hcz_110|SI-NA-B3|exp|\n",
      "|sample_hcz_111|SI-NA-C3|exp|\n",
      "|sample_hcz_112|SI-NA-D3|exp|\n"
     ]
    },
    {
     "data": {
      "application/javascript": [
       "\n",
       "            setTimeout(function() {\n",
       "                var nbb_cell_id = 5;\n",
       "                var nbb_unformatted_code = \"MarkdownTable.make_table()\\nMarkdownTable.view()\";\n",
       "                var nbb_formatted_code = \"MarkdownTable.make_table()\\nMarkdownTable.view()\";\n",
       "                var nbb_cells = Jupyter.notebook.get_cells();\n",
       "                for (var i = 0; i < nbb_cells.length; ++i) {\n",
       "                    if (nbb_cells[i].input_prompt_number == nbb_cell_id) {\n",
       "                        if (nbb_cells[i].get_text() == nbb_unformatted_code) {\n",
       "                             nbb_cells[i].set_text(nbb_formatted_code);\n",
       "                        }\n",
       "                        break;\n",
       "                    }\n",
       "                }\n",
       "            }, 500);\n",
       "            "
      ],
      "text/plain": [
       "<IPython.core.display.Javascript object>"
      ]
     },
     "metadata": {},
     "output_type": "display_data"
    }
   ],
   "source": [
    "MarkdownTable.make_table()\n",
    "MarkdownTable.view()"
   ]
  },
  {
   "cell_type": "code",
   "execution_count": 6,
   "id": "b3ac48cf",
   "metadata": {},
   "outputs": [
    {
     "name": "stdout",
     "output_type": "stream",
     "text": [
      "\u001b[1m\u001b[91m./data.csv\u001b[0m converted to markdown table and saved: \u001b[1m\u001b[94m./table.md\u001b[0m\n"
     ]
    },
    {
     "data": {
      "application/javascript": [
       "\n",
       "            setTimeout(function() {\n",
       "                var nbb_cell_id = 6;\n",
       "                var nbb_unformatted_code = \"MarkdownTable.write(outfile)\";\n",
       "                var nbb_formatted_code = \"MarkdownTable.write(outfile)\";\n",
       "                var nbb_cells = Jupyter.notebook.get_cells();\n",
       "                for (var i = 0; i < nbb_cells.length; ++i) {\n",
       "                    if (nbb_cells[i].input_prompt_number == nbb_cell_id) {\n",
       "                        if (nbb_cells[i].get_text() == nbb_unformatted_code) {\n",
       "                             nbb_cells[i].set_text(nbb_formatted_code);\n",
       "                        }\n",
       "                        break;\n",
       "                    }\n",
       "                }\n",
       "            }, 500);\n",
       "            "
      ],
      "text/plain": [
       "<IPython.core.display.Javascript object>"
      ]
     },
     "metadata": {},
     "output_type": "display_data"
    }
   ],
   "source": [
    "MarkdownTable.write(outfile)"
   ]
  },
  {
   "cell_type": "markdown",
   "id": "ec5c4d51",
   "metadata": {},
   "source": [
    "#### There's also a quick function that can be used to format the table in one shot"
   ]
  },
  {
   "cell_type": "code",
   "execution_count": 7,
   "id": "9ae20c32",
   "metadata": {},
   "outputs": [
    {
     "name": "stdout",
     "output_type": "stream",
     "text": [
      "\u001b[1m\u001b[91m./data.csv\u001b[0m converted to markdown table and saved: \u001b[1m\u001b[94mtable_quick.md\u001b[0m\n"
     ]
    },
    {
     "data": {
      "application/javascript": [
       "\n",
       "            setTimeout(function() {\n",
       "                var nbb_cell_id = 7;\n",
       "                var nbb_unformatted_code = \"v.tl.quicktable(infile, outfile=\\\"table_quick.md\\\")\";\n",
       "                var nbb_formatted_code = \"v.tl.quicktable(infile, outfile=\\\"table_quick.md\\\")\";\n",
       "                var nbb_cells = Jupyter.notebook.get_cells();\n",
       "                for (var i = 0; i < nbb_cells.length; ++i) {\n",
       "                    if (nbb_cells[i].input_prompt_number == nbb_cell_id) {\n",
       "                        if (nbb_cells[i].get_text() == nbb_unformatted_code) {\n",
       "                             nbb_cells[i].set_text(nbb_formatted_code);\n",
       "                        }\n",
       "                        break;\n",
       "                    }\n",
       "                }\n",
       "            }, 500);\n",
       "            "
      ],
      "text/plain": [
       "<IPython.core.display.Javascript object>"
      ]
     },
     "metadata": {},
     "output_type": "display_data"
    }
   ],
   "source": [
    "v.tl.quicktable(infile, outfile=\"table_quick.md\")"
   ]
  }
 ],
 "metadata": {
  "kernelspec": {
   "display_name": "Python 3 (ipykernel)",
   "language": "python",
   "name": "python3"
  },
  "language_info": {
   "codemirror_mode": {
    "name": "ipython",
    "version": 3
   },
   "file_extension": ".py",
   "mimetype": "text/x-python",
   "name": "python",
   "nbconvert_exporter": "python",
   "pygments_lexer": "ipython3",
   "version": "3.8.10"
  }
 },
 "nbformat": 4,
 "nbformat_minor": 5
}
